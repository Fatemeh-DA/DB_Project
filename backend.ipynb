{
 "cells": [
  {
   "cell_type": "code",
   "execution_count": 89,
   "metadata": {},
   "outputs": [],
   "source": [
    "import pyodbc as odbc\n",
    "from flask import Flask, request, jsonify\n"
   ]
  },
  {
   "cell_type": "code",
   "execution_count": 90,
   "metadata": {},
   "outputs": [],
   "source": [
    "app = Flask(__name__)"
   ]
  },
  {
   "cell_type": "code",
   "execution_count": 91,
   "metadata": {},
   "outputs": [],
   "source": [
    "DRIVER_NAME = 'SQL SERVER'\n",
    "SERVER_NAME = 'ROG'\n",
    "DATABASE_NAME = 'fprojj'"
   ]
  },
  {
   "cell_type": "code",
   "execution_count": 92,
   "metadata": {},
   "outputs": [],
   "source": [
    "connection_string = f\"\"\"\n",
    "DRIVER={{{DRIVER_NAME}}};\n",
    "SERVER={SERVER_NAME};\n",
    "DATABASE={DATABASE_NAME};\n",
    "Trust_Connection=yes;\n",
    "\"\"\""
   ]
  },
  {
   "cell_type": "code",
   "execution_count": 93,
   "metadata": {},
   "outputs": [],
   "source": [
    "def get_db_connection():\n",
    "    return odbc.connect(connection_string)"
   ]
  },
  {
   "cell_type": "code",
   "execution_count": 94,
   "metadata": {},
   "outputs": [],
   "source": [
    "@app.route('/register', methods=['POST'])\n",
    "def register_user():\n",
    "    data = request.json\n",
    "    user_code = data['user_code']\n",
    "    first_name = data['first_name']\n",
    "    last_name = data['last_name']\n",
    "    city = data['city']\n",
    "    state_user = data['state_user']\n",
    "    zip_code = data['zip_code']\n",
    "    email = data['email']\n",
    "    \n",
    "    conn = get_db_connection()\n",
    "    cursor = conn.cursor()\n",
    "    cursor.execute('''\n",
    "        INSERT INTO [user] (user_code, first_name, last_name, city, state_user, zip_code, email)\n",
    "        VALUES (?, ?, ?, ?, ?, ?, ?)\n",
    "    ''', (user_code, first_name, last_name, city, state_user, zip_code, email))\n",
    "    conn.commit()\n",
    "    cursor.close()\n",
    "    conn.close()\n",
    "    return jsonify({\"message\": \"User registered successfully!\"}), 201"
   ]
  },
  {
   "cell_type": "code",
   "execution_count": 95,
   "metadata": {},
   "outputs": [],
   "source": [
    "@app.route('/add_to_favorites', methods=['POST'])\n",
    "def add_to_favorites():\n",
    "    data = request.json\n",
    "    user_code = data['user_code']\n",
    "    product_code = data['product_code']\n",
    "    \n",
    "    conn = get_db_connection()\n",
    "    cursor = conn.cursor()\n",
    "    cursor.execute('''\n",
    "        INSERT INTO add2favarite (user_code, product_code)\n",
    "        VALUES (?, ?)\n",
    "    ''', (user_code, product_code))\n",
    "    conn.commit()\n",
    "    cursor.close()\n",
    "    conn.close()\n",
    "    return jsonify({\"message\": \"Product added to favorites!\"}), 201\n"
   ]
  },
  {
   "cell_type": "code",
   "execution_count": 96,
   "metadata": {},
   "outputs": [],
   "source": [
    "@app.route('/place_order', methods=['POST'])\n",
    "def place_order():\n",
    "    data = request.json\n",
    "    order_code = data['order_code']\n",
    "    product_code = data['product_code']\n",
    "    user_code = data['user_code']\n",
    "    sending_type = data['sending_type']\n",
    "    delivery_type = data['delivery_type']\n",
    "    delivery_time = data['delivery_time']\n",
    "    tracking_code = data['tracking_code']\n",
    "    \n",
    "    conn = get_db_connection()\n",
    "    cursor = conn.cursor()\n",
    "    cursor.execute('''\n",
    "        INSERT INTO [order] (order_code, product_code, user_code, sending_type, delivery_type, delivery_time, tracking_code)\n",
    "        VALUES (?, ?, ?, ?, ?, ?, ?)\n",
    "    ''', (order_code, product_code, user_code, sending_type, delivery_type, delivery_time, tracking_code))\n",
    "    conn.commit()\n",
    "    cursor.close()\n",
    "    conn.close()\n",
    "    return jsonify({\"message\": \"Order placed successfully!\"}), 201\n"
   ]
  },
  {
   "cell_type": "code",
   "execution_count": 97,
   "metadata": {},
   "outputs": [
    {
     "name": "stdout",
     "output_type": "stream",
     "text": [
      " * Serving Flask app '__main__'\n",
      " * Debug mode: off\n"
     ]
    },
    {
     "name": "stderr",
     "output_type": "stream",
     "text": [
      "WARNING: This is a development server. Do not use it in a production deployment. Use a production WSGI server instead.\n",
      " * Running on http://127.0.0.1:5000\n",
      "Press CTRL+C to quit\n"
     ]
    }
   ],
   "source": [
    "if __name__ == '__main__': \n",
    "    app.run(debug=False) "
   ]
  }
 ],
 "metadata": {
  "kernelspec": {
   "display_name": "Python 3",
   "language": "python",
   "name": "python3"
  },
  "language_info": {
   "codemirror_mode": {
    "name": "ipython",
    "version": 3
   },
   "file_extension": ".py",
   "mimetype": "text/x-python",
   "name": "python",
   "nbconvert_exporter": "python",
   "pygments_lexer": "ipython3",
   "version": "3.11.5"
  }
 },
 "nbformat": 4,
 "nbformat_minor": 2
}
